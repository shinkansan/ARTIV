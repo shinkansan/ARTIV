{
 "cells": [
  {
   "cell_type": "code",
   "execution_count": 23,
   "metadata": {},
   "outputs": [
    {
     "name": "stdout",
     "output_type": "stream",
     "text": [
      "bash: source: No such file or directory\r\n"
     ]
    }
   ],
   "source": [
    "!bash source ~/opt/ros/melodic/setup.bash"
   ]
  },
  {
   "cell_type": "code",
   "execution_count": 1,
   "metadata": {},
   "outputs": [
    {
     "ename": "ModuleNotFoundError",
     "evalue": "No module named 'rospkg'",
     "output_type": "error",
     "traceback": [
      "\u001b[0;31m---------------------------------------------------------------------------\u001b[0m",
      "\u001b[0;31mModuleNotFoundError\u001b[0m                       Traceback (most recent call last)",
      "\u001b[0;32m<ipython-input-1-a200b96cfcfc>\u001b[0m in \u001b[0;36m<module>\u001b[0;34m()\u001b[0m\n\u001b[1;32m      1\u001b[0m \u001b[0;32mfrom\u001b[0m \u001b[0mcanlib\u001b[0m \u001b[0;32mimport\u001b[0m \u001b[0mcanlib\u001b[0m\u001b[0;34m,\u001b[0m \u001b[0mkvadblib\u001b[0m\u001b[0;34m\u001b[0m\u001b[0;34m\u001b[0m\u001b[0m\n\u001b[1;32m      2\u001b[0m \u001b[0;32mimport\u001b[0m \u001b[0mthreading\u001b[0m\u001b[0;34m\u001b[0m\u001b[0;34m\u001b[0m\u001b[0m\n\u001b[0;32m----> 3\u001b[0;31m \u001b[0;32mimport\u001b[0m \u001b[0mrospy\u001b[0m\u001b[0;34m\u001b[0m\u001b[0;34m\u001b[0m\u001b[0m\n\u001b[0m\u001b[1;32m      4\u001b[0m \u001b[0;34m\u001b[0m\u001b[0m\n\u001b[1;32m      5\u001b[0m \u001b[0;34m\u001b[0m\u001b[0m\n",
      "\u001b[0;32m/opt/ros/melodic/lib/python2.7/dist-packages/rospy/__init__.py\u001b[0m in \u001b[0;36m<module>\u001b[0;34m()\u001b[0m\n\u001b[1;32m     47\u001b[0m \u001b[0;32mfrom\u001b[0m \u001b[0mstd_msgs\u001b[0m\u001b[0;34m.\u001b[0m\u001b[0mmsg\u001b[0m \u001b[0;32mimport\u001b[0m \u001b[0mHeader\u001b[0m\u001b[0;34m\u001b[0m\u001b[0;34m\u001b[0m\u001b[0m\n\u001b[1;32m     48\u001b[0m \u001b[0;34m\u001b[0m\u001b[0m\n\u001b[0;32m---> 49\u001b[0;31m \u001b[0;32mfrom\u001b[0m \u001b[0;34m.\u001b[0m\u001b[0mclient\u001b[0m \u001b[0;32mimport\u001b[0m \u001b[0mspin\u001b[0m\u001b[0;34m,\u001b[0m \u001b[0mmyargv\u001b[0m\u001b[0;34m,\u001b[0m \u001b[0minit_node\u001b[0m\u001b[0;34m,\u001b[0m\u001b[0;31m \u001b[0m\u001b[0;31m\\\u001b[0m\u001b[0;34m\u001b[0m\u001b[0;34m\u001b[0m\u001b[0m\n\u001b[0m\u001b[1;32m     50\u001b[0m     \u001b[0mget_published_topics\u001b[0m\u001b[0;34m,\u001b[0m\u001b[0;31m \u001b[0m\u001b[0;31m\\\u001b[0m\u001b[0;34m\u001b[0m\u001b[0;34m\u001b[0m\u001b[0m\n\u001b[1;32m     51\u001b[0m     \u001b[0mwait_for_message\u001b[0m\u001b[0;34m,\u001b[0m\u001b[0;31m \u001b[0m\u001b[0;31m\\\u001b[0m\u001b[0;34m\u001b[0m\u001b[0;34m\u001b[0m\u001b[0m\n",
      "\u001b[0;32m/opt/ros/melodic/lib/python2.7/dist-packages/rospy/client.py\u001b[0m in \u001b[0;36m<module>\u001b[0;34m()\u001b[0m\n\u001b[1;32m     50\u001b[0m \u001b[0;32mimport\u001b[0m \u001b[0mrosgraph\u001b[0m\u001b[0;34m.\u001b[0m\u001b[0mnames\u001b[0m\u001b[0;34m\u001b[0m\u001b[0;34m\u001b[0m\u001b[0m\n\u001b[1;32m     51\u001b[0m \u001b[0;34m\u001b[0m\u001b[0m\n\u001b[0;32m---> 52\u001b[0;31m \u001b[0;32mimport\u001b[0m \u001b[0mroslib\u001b[0m\u001b[0;34m\u001b[0m\u001b[0;34m\u001b[0m\u001b[0m\n\u001b[0m\u001b[1;32m     53\u001b[0m \u001b[0;34m\u001b[0m\u001b[0m\n\u001b[1;32m     54\u001b[0m \u001b[0;32mimport\u001b[0m \u001b[0mrospy\u001b[0m\u001b[0;34m.\u001b[0m\u001b[0mcore\u001b[0m\u001b[0;34m\u001b[0m\u001b[0;34m\u001b[0m\u001b[0m\n",
      "\u001b[0;32m/opt/ros/melodic/lib/python2.7/dist-packages/roslib/__init__.py\u001b[0m in \u001b[0;36m<module>\u001b[0;34m()\u001b[0m\n\u001b[1;32m     48\u001b[0m \u001b[0m__version__\u001b[0m \u001b[0;34m=\u001b[0m \u001b[0;34m'1.7.0'\u001b[0m\u001b[0;34m\u001b[0m\u001b[0;34m\u001b[0m\u001b[0m\n\u001b[1;32m     49\u001b[0m \u001b[0;34m\u001b[0m\u001b[0m\n\u001b[0;32m---> 50\u001b[0;31m \u001b[0;32mfrom\u001b[0m \u001b[0mroslib\u001b[0m\u001b[0;34m.\u001b[0m\u001b[0mlauncher\u001b[0m \u001b[0;32mimport\u001b[0m \u001b[0mload_manifest\u001b[0m  \u001b[0;31m# noqa: F401\u001b[0m\u001b[0;34m\u001b[0m\u001b[0;34m\u001b[0m\u001b[0m\n\u001b[0m\u001b[1;32m     51\u001b[0m \u001b[0;31m# this import is necessary due to a bug in purge_build.py in our\u001b[0m\u001b[0;34m\u001b[0m\u001b[0;34m\u001b[0m\u001b[0;34m\u001b[0m\u001b[0m\n\u001b[1;32m     52\u001b[0m \u001b[0;31m# debian assets.\u001b[0m\u001b[0;34m\u001b[0m\u001b[0;34m\u001b[0m\u001b[0;34m\u001b[0m\u001b[0m\n",
      "\u001b[0;32m/opt/ros/melodic/lib/python2.7/dist-packages/roslib/launcher.py\u001b[0m in \u001b[0;36m<module>\u001b[0;34m()\u001b[0m\n\u001b[1;32m     40\u001b[0m \u001b[0;32mimport\u001b[0m \u001b[0msys\u001b[0m\u001b[0;34m\u001b[0m\u001b[0;34m\u001b[0m\u001b[0m\n\u001b[1;32m     41\u001b[0m \u001b[0;34m\u001b[0m\u001b[0m\n\u001b[0;32m---> 42\u001b[0;31m \u001b[0;32mimport\u001b[0m \u001b[0mrospkg\u001b[0m\u001b[0;34m\u001b[0m\u001b[0;34m\u001b[0m\u001b[0m\n\u001b[0m\u001b[1;32m     43\u001b[0m \u001b[0;34m\u001b[0m\u001b[0m\n\u001b[1;32m     44\u001b[0m \u001b[0;31m# bootstrapped keeps track of which packages we've loaded so we don't\u001b[0m\u001b[0;34m\u001b[0m\u001b[0;34m\u001b[0m\u001b[0;34m\u001b[0m\u001b[0m\n",
      "\u001b[0;31mModuleNotFoundError\u001b[0m: No module named 'rospkg'"
     ]
    }
   ],
   "source": [
    "from canlib import canlib, kvadblib\n",
    "import threading\n",
    "import rospy\n",
    "\n",
    "\n",
    "_dbName_ = \"cankingDB_ioniq_dgist_mod5.dbc\"\n",
    "db = kvadblib.Dbc(filename=_dbName_)\n"
   ]
  },
  {
   "cell_type": "code",
   "execution_count": 18,
   "metadata": {},
   "outputs": [
    {
     "name": "stdout",
     "output_type": "stream",
     "text": [
      "Error occured Specified device not found (-3)\n"
     ]
    }
   ],
   "source": [
    "controlCMD = db.get_message_by_name('Control_CMD')\n",
    "drivingCMD = db.get_message_by_name('Driving_CMD')\n",
    "\n",
    "cmsg = controlCMD.bind()\n",
    "dmsg = drivingCMD.bind()\n",
    "\n",
    "__CH_NUM__ = 0\n",
    "\n",
    "try:\n",
    "    ch = canlib.openChannel(__CH_NUM__, canlib.canOPEN_ACCEPT_VIRTUAL)\n",
    "    ch.setBusOutputControl(canlib.canDRIVER_NORMAL)\n",
    "    ch.setBusParams(__BITRATE__)\n",
    "    ch.busOn()\n",
    "except Exception as ex:\n",
    "    print(\"Error occured\", ex)\n",
    "    \n",
    "    \n",
    "    "
   ]
  },
  {
   "cell_type": "code",
   "execution_count": null,
   "metadata": {},
   "outputs": [],
   "source": [
    "class sender():\n",
    "    def __init__(self, ch, db):\n",
    "        self.ch = ch\n",
    "        controlCMD = db.get_message_by_name('Control_CMD')\n",
    "        drivingCMD = db.get_message_by_name('Driving_CMD')\n",
    "        \n",
    "        self.cmsg = controlCMD.bind()\n",
    "        self.dmsg = drivingCMD.bind()\n",
    "        \n",
    "        print(\"Init Connection... send Alive CMD, Check Interface!\")\n",
    "        heartbeat = threading.Thread(target = AliveSender)\n",
    "        \n",
    "    def AliveSender(self):\n",
    "        aliveVar = 0\n",
    "        while True:\n",
    "            self.cmsg.AliveCount.phys = 255 % aliveVar\n",
    "            self.ch.write(self.cmsg)\n",
    "            aliveVar += 1    \n",
    "            \n",
    "    def setAngularSpeed(self, value):\n",
    "        value = value if value < 255 else 255\n",
    "        self.cmsg.AngulaSpeedCMD.phys = value\n",
    "        self.ch.write(self.cmsg)\n",
    "        \n",
    "    def setAccelCMD(self, value):\n",
    "        __MAX__ = 700\n",
    "        '''TODO: Retrieve MAX Value at rosparam'''\n",
    "        value = value if value < __MAX__ else __MAX__\n",
    "        self.dmsg.AccelCMD.phys = value \n",
    "        self.ch.write(self.dmsg)\n",
    "    \n",
    "    def setBrakeCMD(self, value):\n",
    "        __MAX__ = 27000\n",
    "        value = value if value < __MAX__ else __MAX__\n",
    "        self.dmsg.BrakeCMD.phys = value \n",
    "        self.ch.write(self.dmsg)\n",
    "            \n",
    "    def setSteerCMD(self, value):\n",
    "        __MAX__ = 570\n",
    "        value = value if abs(value) < __MAX__ else __MAX__\n",
    "        self.dmsg.SteerCMD.phys = value \n",
    "        self.ch.write(self.dmsg)\n",
    "        \n",
    "    def setGearCMD(self, value):\n",
    "        cmd = [0, 5 ,6 ,7]\n",
    "        if not value in cmd:\n",
    "            #Rogue Data\n",
    "            return -1\n",
    "        self.dmsg.GearShiftCMD.phys = value\n",
    "        self.ch.write(self.dmsg)\n",
    "        \n"
   ]
  },
  {
   "cell_type": "code",
   "execution_count": 17,
   "metadata": {},
   "outputs": [],
   "source": []
  },
  {
   "cell_type": "code",
   "execution_count": null,
   "metadata": {},
   "outputs": [],
   "source": []
  }
 ],
 "metadata": {
  "kernelspec": {
   "display_name": "Python 3",
   "language": "python",
   "name": "python3"
  },
  "language_info": {
   "codemirror_mode": {
    "name": "ipython",
    "version": 3
   },
   "file_extension": ".py",
   "mimetype": "text/x-python",
   "name": "python",
   "nbconvert_exporter": "python",
   "pygments_lexer": "ipython3",
   "version": "3.6.9"
  }
 },
 "nbformat": 4,
 "nbformat_minor": 2
}
