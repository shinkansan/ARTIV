{
 "cells": [
  {
   "cell_type": "code",
   "execution_count": 2,
   "metadata": {},
   "outputs": [],
   "source": [
    "from ARTIV_parser import parser"
   ]
  },
  {
   "cell_type": "code",
   "execution_count": 29,
   "metadata": {},
   "outputs": [
    {
     "data": {
      "text/html": [
       "<div>\n",
       "<style scoped>\n",
       "    .dataframe tbody tr th:only-of-type {\n",
       "        vertical-align: middle;\n",
       "    }\n",
       "\n",
       "    .dataframe tbody tr th {\n",
       "        vertical-align: top;\n",
       "    }\n",
       "\n",
       "    .dataframe thead th {\n",
       "        text-align: right;\n",
       "    }\n",
       "</style>\n",
       "<table border=\"1\" class=\"dataframe\">\n",
       "  <thead>\n",
       "    <tr style=\"text-align: right;\">\n",
       "      <th></th>\n",
       "      <th>type</th>\n",
       "      <th>traffic_sign:forward</th>\n",
       "      <th>geometry</th>\n",
       "    </tr>\n",
       "  </thead>\n",
       "  <tbody>\n",
       "    <tr>\n",
       "      <th>0</th>\n",
       "      <td>1</td>\n",
       "      <td>nodata</td>\n",
       "      <td>LINESTRING (450936.000 3951161.574, 450937.497...</td>\n",
       "    </tr>\n",
       "    <tr>\n",
       "      <th>1</th>\n",
       "      <td>Feature</td>\n",
       "      <td>nodata</td>\n",
       "      <td>LINESTRING (451259.031 3951126.445, 451259.242...</td>\n",
       "    </tr>\n",
       "    <tr>\n",
       "      <th>2</th>\n",
       "      <td>Feature</td>\n",
       "      <td>nodata</td>\n",
       "      <td>LINESTRING (451017.013 3951479.923, 451016.989...</td>\n",
       "    </tr>\n",
       "    <tr>\n",
       "      <th>3</th>\n",
       "      <td>3</td>\n",
       "      <td>nodata</td>\n",
       "      <td>LINESTRING (450627.336 3951251.977, 450626.067...</td>\n",
       "    </tr>\n",
       "    <tr>\n",
       "      <th>4</th>\n",
       "      <td>3</td>\n",
       "      <td>nodata</td>\n",
       "      <td>LINESTRING (450916.802 3951173.441, 450916.937...</td>\n",
       "    </tr>\n",
       "    <tr>\n",
       "      <th>...</th>\n",
       "      <td>...</td>\n",
       "      <td>...</td>\n",
       "      <td>...</td>\n",
       "    </tr>\n",
       "    <tr>\n",
       "      <th>520</th>\n",
       "      <td>3</td>\n",
       "      <td>nodata</td>\n",
       "      <td>LINESTRING (450547.586 3951279.705, 450546.706...</td>\n",
       "    </tr>\n",
       "    <tr>\n",
       "      <th>521</th>\n",
       "      <td>3</td>\n",
       "      <td>nodata</td>\n",
       "      <td>LINESTRING (450949.503 3951154.593, 450950.330...</td>\n",
       "    </tr>\n",
       "    <tr>\n",
       "      <th>522</th>\n",
       "      <td>Feature</td>\n",
       "      <td>nodata</td>\n",
       "      <td>LINESTRING (451249.699 3951266.083, 451249.554...</td>\n",
       "    </tr>\n",
       "    <tr>\n",
       "      <th>523</th>\n",
       "      <td>3</td>\n",
       "      <td>nodata</td>\n",
       "      <td>LINESTRING (450944.474 3951149.612, 450946.192...</td>\n",
       "    </tr>\n",
       "    <tr>\n",
       "      <th>524</th>\n",
       "      <td>3</td>\n",
       "      <td>nodata</td>\n",
       "      <td>LINESTRING (451254.564 3951139.936, 451254.069...</td>\n",
       "    </tr>\n",
       "  </tbody>\n",
       "</table>\n",
       "<p>525 rows × 3 columns</p>\n",
       "</div>"
      ],
      "text/plain": [
       "        type traffic_sign:forward  \\\n",
       "0          1               nodata   \n",
       "1    Feature               nodata   \n",
       "2    Feature               nodata   \n",
       "3          3               nodata   \n",
       "4          3               nodata   \n",
       "..       ...                  ...   \n",
       "520        3               nodata   \n",
       "521        3               nodata   \n",
       "522  Feature               nodata   \n",
       "523        3               nodata   \n",
       "524        3               nodata   \n",
       "\n",
       "                                              geometry  \n",
       "0    LINESTRING (450936.000 3951161.574, 450937.497...  \n",
       "1    LINESTRING (451259.031 3951126.445, 451259.242...  \n",
       "2    LINESTRING (451017.013 3951479.923, 451016.989...  \n",
       "3    LINESTRING (450627.336 3951251.977, 450626.067...  \n",
       "4    LINESTRING (450916.802 3951173.441, 450916.937...  \n",
       "..                                                 ...  \n",
       "520  LINESTRING (450547.586 3951279.705, 450546.706...  \n",
       "521  LINESTRING (450949.503 3951154.593, 450950.330...  \n",
       "522  LINESTRING (451249.699 3951266.083, 451249.554...  \n",
       "523  LINESTRING (450944.474 3951149.612, 450946.192...  \n",
       "524  LINESTRING (451254.564 3951139.936, 451254.069...  \n",
       "\n",
       "[525 rows x 3 columns]"
      ]
     },
     "execution_count": 29,
     "metadata": {},
     "output_type": "execute_result"
    }
   ],
   "source": [
    "dgistMap = parser.loadMap('dgist_a1.geojson').getItem()\n",
    "dgistMap.fillna('nodata')"
   ]
  },
  {
   "cell_type": "code",
   "execution_count": 32,
   "metadata": {},
   "outputs": [],
   "source": [
    "featuredMap = dgistMap.loc[dgistMap['type'] != 'Feature']"
   ]
  },
  {
   "cell_type": "code",
   "execution_count": 33,
   "metadata": {},
   "outputs": [
    {
     "data": {
      "text/html": [
       "<div>\n",
       "<style scoped>\n",
       "    .dataframe tbody tr th:only-of-type {\n",
       "        vertical-align: middle;\n",
       "    }\n",
       "\n",
       "    .dataframe tbody tr th {\n",
       "        vertical-align: top;\n",
       "    }\n",
       "\n",
       "    .dataframe thead th {\n",
       "        text-align: right;\n",
       "    }\n",
       "</style>\n",
       "<table border=\"1\" class=\"dataframe\">\n",
       "  <thead>\n",
       "    <tr style=\"text-align: right;\">\n",
       "      <th></th>\n",
       "      <th>type</th>\n",
       "      <th>traffic_sign:forward</th>\n",
       "      <th>geometry</th>\n",
       "    </tr>\n",
       "  </thead>\n",
       "  <tbody>\n",
       "    <tr>\n",
       "      <th>0</th>\n",
       "      <td>1</td>\n",
       "      <td>None</td>\n",
       "      <td>LINESTRING (450936.000 3951161.574, 450937.497...</td>\n",
       "    </tr>\n",
       "    <tr>\n",
       "      <th>3</th>\n",
       "      <td>3</td>\n",
       "      <td>None</td>\n",
       "      <td>LINESTRING (450627.336 3951251.977, 450626.067...</td>\n",
       "    </tr>\n",
       "    <tr>\n",
       "      <th>4</th>\n",
       "      <td>3</td>\n",
       "      <td>None</td>\n",
       "      <td>LINESTRING (450916.802 3951173.441, 450916.937...</td>\n",
       "    </tr>\n",
       "    <tr>\n",
       "      <th>7</th>\n",
       "      <td>3</td>\n",
       "      <td>None</td>\n",
       "      <td>LINESTRING (450435.790 3951394.759, 450435.287...</td>\n",
       "    </tr>\n",
       "    <tr>\n",
       "      <th>17</th>\n",
       "      <td>3</td>\n",
       "      <td>None</td>\n",
       "      <td>LINESTRING (451030.902 3951462.424, 451030.317...</td>\n",
       "    </tr>\n",
       "    <tr>\n",
       "      <th>...</th>\n",
       "      <td>...</td>\n",
       "      <td>...</td>\n",
       "      <td>...</td>\n",
       "    </tr>\n",
       "    <tr>\n",
       "      <th>519</th>\n",
       "      <td>3</td>\n",
       "      <td>None</td>\n",
       "      <td>LINESTRING (450509.146 3951682.944, 450509.215...</td>\n",
       "    </tr>\n",
       "    <tr>\n",
       "      <th>520</th>\n",
       "      <td>3</td>\n",
       "      <td>None</td>\n",
       "      <td>LINESTRING (450547.586 3951279.705, 450546.706...</td>\n",
       "    </tr>\n",
       "    <tr>\n",
       "      <th>521</th>\n",
       "      <td>3</td>\n",
       "      <td>None</td>\n",
       "      <td>LINESTRING (450949.503 3951154.593, 450950.330...</td>\n",
       "    </tr>\n",
       "    <tr>\n",
       "      <th>523</th>\n",
       "      <td>3</td>\n",
       "      <td>None</td>\n",
       "      <td>LINESTRING (450944.474 3951149.612, 450946.192...</td>\n",
       "    </tr>\n",
       "    <tr>\n",
       "      <th>524</th>\n",
       "      <td>3</td>\n",
       "      <td>None</td>\n",
       "      <td>LINESTRING (451254.564 3951139.936, 451254.069...</td>\n",
       "    </tr>\n",
       "  </tbody>\n",
       "</table>\n",
       "<p>205 rows × 3 columns</p>\n",
       "</div>"
      ],
      "text/plain": [
       "    type traffic_sign:forward  \\\n",
       "0      1                 None   \n",
       "3      3                 None   \n",
       "4      3                 None   \n",
       "7      3                 None   \n",
       "17     3                 None   \n",
       "..   ...                  ...   \n",
       "519    3                 None   \n",
       "520    3                 None   \n",
       "521    3                 None   \n",
       "523    3                 None   \n",
       "524    3                 None   \n",
       "\n",
       "                                              geometry  \n",
       "0    LINESTRING (450936.000 3951161.574, 450937.497...  \n",
       "3    LINESTRING (450627.336 3951251.977, 450626.067...  \n",
       "4    LINESTRING (450916.802 3951173.441, 450916.937...  \n",
       "7    LINESTRING (450435.790 3951394.759, 450435.287...  \n",
       "17   LINESTRING (451030.902 3951462.424, 451030.317...  \n",
       "..                                                 ...  \n",
       "519  LINESTRING (450509.146 3951682.944, 450509.215...  \n",
       "520  LINESTRING (450547.586 3951279.705, 450546.706...  \n",
       "521  LINESTRING (450949.503 3951154.593, 450950.330...  \n",
       "523  LINESTRING (450944.474 3951149.612, 450946.192...  \n",
       "524  LINESTRING (451254.564 3951139.936, 451254.069...  \n",
       "\n",
       "[205 rows x 3 columns]"
      ]
     },
     "execution_count": 33,
     "metadata": {},
     "output_type": "execute_result"
    }
   ],
   "source": [
    "featuredMap"
   ]
  },
  {
   "cell_type": "code",
   "execution_count": 42,
   "metadata": {},
   "outputs": [
    {
     "data": {
      "text/plain": [
       "'1'"
      ]
     },
     "execution_count": 42,
     "metadata": {},
     "output_type": "execute_result"
    }
   ],
   "source": [
    "featuredMap.iloc[0]['type']"
   ]
  },
  {
   "cell_type": "code",
   "execution_count": 44,
   "metadata": {},
   "outputs": [
    {
     "data": {
      "text/plain": [
       "(array('d', [450936.0000002643, 450937.496999965, 450939.7890001859, 450940.5629997068, 450941.6870001956, 450943.5850000229, 450944.69200034795, 450945.79999968805, 450946.94300040853]),\n",
       " array('d', [3951161.573999264, 3951160.5219999687, 3951158.767000243, 3951158.079000306, 3951157.077999647, 3951155.388999474, 3951154.3779999283, 3951153.3669994436, 3951152.05899964]))"
      ]
     },
     "execution_count": 44,
     "metadata": {},
     "output_type": "execute_result"
    }
   ],
   "source": [
    "featuredMap.iloc[0]['geometry'].xy"
   ]
  }
 ],
 "metadata": {
  "kernelspec": {
   "display_name": "Python 3",
   "language": "python",
   "name": "python3"
  },
  "language_info": {
   "codemirror_mode": {
    "name": "ipython",
    "version": 3
   },
   "file_extension": ".py",
   "mimetype": "text/x-python",
   "name": "python",
   "nbconvert_exporter": "python",
   "pygments_lexer": "ipython3",
   "version": "3.6.9"
  }
 },
 "nbformat": 4,
 "nbformat_minor": 4
}
