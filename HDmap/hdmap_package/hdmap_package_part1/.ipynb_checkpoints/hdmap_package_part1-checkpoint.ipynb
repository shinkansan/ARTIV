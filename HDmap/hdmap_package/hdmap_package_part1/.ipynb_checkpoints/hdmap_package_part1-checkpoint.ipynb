{
 "cells": [
  {
   "cell_type": "markdown",
   "metadata": {},
   "source": [
    "## 위치측위팀 HD Map 파서 제작 1탄\n",
    "DGIST SHP 분석 및 커스텀마이징 가능성 조사"
   ]
  },
  {
   "cell_type": "code",
   "execution_count": 26,
   "metadata": {},
   "outputs": [],
   "source": [
    "import matplotlib.pyplot as plt\n",
    "import ARTIV_parser.parser"
   ]
  },
  {
   "cell_type": "code",
   "execution_count": 3,
   "metadata": {},
   "outputs": [
    {
     "name": "stdout",
     "output_type": "stream",
     "text": [
      "ARTIV_parser  AutonomouStuff.osm  dgist_a1.osm\t   __pycache__\r\n",
      "as.geojson    dgist_a1.geojson\t  josm-tested.jar  Untitled.ipynb\r\n"
     ]
    }
   ],
   "source": [
    "!ls"
   ]
  },
  {
   "cell_type": "code",
   "execution_count": 7,
   "metadata": {},
   "outputs": [
    {
     "data": {
      "text/plain": [
       "<module 'ARTIV_parser.parser' from '/home/shinkansan/Documents/map_study/parser_hdmap_package/ARTIV_parser/parser.py'>"
      ]
     },
     "execution_count": 7,
     "metadata": {},
     "output_type": "execute_result"
    }
   ],
   "source": [
    "parser"
   ]
  },
  {
   "cell_type": "code",
   "execution_count": 21,
   "metadata": {},
   "outputs": [],
   "source": [
    "dgistMap = parser.loadMap(\"dgist_a1.geojson\").getItem()"
   ]
  },
  {
   "cell_type": "code",
   "execution_count": 22,
   "metadata": {},
   "outputs": [
    {
     "data": {
      "text/plain": [
       "Index(['BARRIER', 'CODE', 'DATE', 'HDUFID', 'LANECODE', 'LANETYPE', 'LNO',\n",
       "       'R_LINKID', 'L_LINKID', 'lanes', 'side', 'traffic_sign:forward', 'curb',\n",
       "       'REMARK', 'geometry'],\n",
       "      dtype='object')"
      ]
     },
     "execution_count": 22,
     "metadata": {},
     "output_type": "execute_result"
    }
   ],
   "source": [
    "# 어떤 데이터가 있는지 조사.\n",
    "dgistMap.columns"
   ]
  },
  {
   "cell_type": "code",
   "execution_count": 23,
   "metadata": {},
   "outputs": [
    {
     "data": {
      "text/html": [
       "<div>\n",
       "<style scoped>\n",
       "    .dataframe tbody tr th:only-of-type {\n",
       "        vertical-align: middle;\n",
       "    }\n",
       "\n",
       "    .dataframe tbody tr th {\n",
       "        vertical-align: top;\n",
       "    }\n",
       "\n",
       "    .dataframe thead th {\n",
       "        text-align: right;\n",
       "    }\n",
       "</style>\n",
       "<table border=\"1\" class=\"dataframe\">\n",
       "  <thead>\n",
       "    <tr style=\"text-align: right;\">\n",
       "      <th></th>\n",
       "      <th>BARRIER</th>\n",
       "      <th>CODE</th>\n",
       "      <th>DATE</th>\n",
       "      <th>HDUFID</th>\n",
       "      <th>LANECODE</th>\n",
       "      <th>LANETYPE</th>\n",
       "      <th>LNO</th>\n",
       "      <th>R_LINKID</th>\n",
       "      <th>L_LINKID</th>\n",
       "      <th>lanes</th>\n",
       "      <th>side</th>\n",
       "      <th>traffic_sign:forward</th>\n",
       "      <th>curb</th>\n",
       "      <th>REMARK</th>\n",
       "      <th>geometry</th>\n",
       "    </tr>\n",
       "  </thead>\n",
       "  <tbody>\n",
       "    <tr>\n",
       "      <th>0</th>\n",
       "      <td>04</td>\n",
       "      <td>2</td>\n",
       "      <td>20180430</td>\n",
       "      <td>A1LA184A118233</td>\n",
       "      <td>99</td>\n",
       "      <td>999</td>\n",
       "      <td>7234</td>\n",
       "      <td>None</td>\n",
       "      <td>None</td>\n",
       "      <td>None</td>\n",
       "      <td>None</td>\n",
       "      <td>None</td>\n",
       "      <td>None</td>\n",
       "      <td>None</td>\n",
       "      <td>LINESTRING (450933.974 3951158.172, 450934.607...</td>\n",
       "    </tr>\n",
       "    <tr>\n",
       "      <th>1</th>\n",
       "      <td>99</td>\n",
       "      <td>1</td>\n",
       "      <td>20180430</td>\n",
       "      <td>A1LA184A111498</td>\n",
       "      <td>01</td>\n",
       "      <td>111</td>\n",
       "      <td>499</td>\n",
       "      <td>157C5304ZZ0102</td>\n",
       "      <td>None</td>\n",
       "      <td>None</td>\n",
       "      <td>None</td>\n",
       "      <td>None</td>\n",
       "      <td>None</td>\n",
       "      <td>None</td>\n",
       "      <td>LINESTRING (450545.975 3951273.672, 450544.758...</td>\n",
       "    </tr>\n",
       "    <tr>\n",
       "      <th>2</th>\n",
       "      <td>04</td>\n",
       "      <td>2</td>\n",
       "      <td>20180430</td>\n",
       "      <td>A1LA184A111640</td>\n",
       "      <td>99</td>\n",
       "      <td>999</td>\n",
       "      <td>641</td>\n",
       "      <td>None</td>\n",
       "      <td>157C5281RZ0102</td>\n",
       "      <td>None</td>\n",
       "      <td>None</td>\n",
       "      <td>None</td>\n",
       "      <td>None</td>\n",
       "      <td>None</td>\n",
       "      <td>LINESTRING (450788.519 3951682.446, 450788.034...</td>\n",
       "    </tr>\n",
       "    <tr>\n",
       "      <th>3</th>\n",
       "      <td>04</td>\n",
       "      <td>2</td>\n",
       "      <td>20180430</td>\n",
       "      <td>A1LA184A112829</td>\n",
       "      <td>99</td>\n",
       "      <td>999</td>\n",
       "      <td>1830</td>\n",
       "      <td>None</td>\n",
       "      <td>157C5312ZZ0102</td>\n",
       "      <td>None</td>\n",
       "      <td>None</td>\n",
       "      <td>None</td>\n",
       "      <td>None</td>\n",
       "      <td>None</td>\n",
       "      <td>LINESTRING (450772.910 3951677.084, 450773.531...</td>\n",
       "    </tr>\n",
       "    <tr>\n",
       "      <th>4</th>\n",
       "      <td>04</td>\n",
       "      <td>2</td>\n",
       "      <td>20180430</td>\n",
       "      <td>A1LA184A111122</td>\n",
       "      <td>99</td>\n",
       "      <td>999</td>\n",
       "      <td>123</td>\n",
       "      <td>None</td>\n",
       "      <td>157C5306RZ0102</td>\n",
       "      <td>None</td>\n",
       "      <td>None</td>\n",
       "      <td>None</td>\n",
       "      <td>None</td>\n",
       "      <td>None</td>\n",
       "      <td>LINESTRING (450456.724 3951483.496, 450456.702...</td>\n",
       "    </tr>\n",
       "    <tr>\n",
       "      <th>...</th>\n",
       "      <td>...</td>\n",
       "      <td>...</td>\n",
       "      <td>...</td>\n",
       "      <td>...</td>\n",
       "      <td>...</td>\n",
       "      <td>...</td>\n",
       "      <td>...</td>\n",
       "      <td>...</td>\n",
       "      <td>...</td>\n",
       "      <td>...</td>\n",
       "      <td>...</td>\n",
       "      <td>...</td>\n",
       "      <td>...</td>\n",
       "      <td>...</td>\n",
       "      <td>...</td>\n",
       "    </tr>\n",
       "    <tr>\n",
       "      <th>521</th>\n",
       "      <td>99</td>\n",
       "      <td>1</td>\n",
       "      <td>20180430</td>\n",
       "      <td>A1LA184A112344</td>\n",
       "      <td>01</td>\n",
       "      <td>111</td>\n",
       "      <td>1345</td>\n",
       "      <td>157C5316ZZ0102</td>\n",
       "      <td>None</td>\n",
       "      <td>None</td>\n",
       "      <td>None</td>\n",
       "      <td>None</td>\n",
       "      <td>None</td>\n",
       "      <td>None</td>\n",
       "      <td>LINESTRING (451029.680 3951459.272, 451031.274...</td>\n",
       "    </tr>\n",
       "    <tr>\n",
       "      <th>522</th>\n",
       "      <td>04</td>\n",
       "      <td>2</td>\n",
       "      <td>20180430</td>\n",
       "      <td>A1LA184A111703</td>\n",
       "      <td>99</td>\n",
       "      <td>999</td>\n",
       "      <td>704</td>\n",
       "      <td>None</td>\n",
       "      <td>157C5299ZZ0202</td>\n",
       "      <td>None</td>\n",
       "      <td>None</td>\n",
       "      <td>None</td>\n",
       "      <td>None</td>\n",
       "      <td>None</td>\n",
       "      <td>LINESTRING (450907.524 3951184.342, 450907.003...</td>\n",
       "    </tr>\n",
       "    <tr>\n",
       "      <th>523</th>\n",
       "      <td>04</td>\n",
       "      <td>2</td>\n",
       "      <td>20180430</td>\n",
       "      <td>A1LA184A112788</td>\n",
       "      <td>99</td>\n",
       "      <td>999</td>\n",
       "      <td>1789</td>\n",
       "      <td>None</td>\n",
       "      <td>157C5295RR0202</td>\n",
       "      <td>None</td>\n",
       "      <td>None</td>\n",
       "      <td>None</td>\n",
       "      <td>None</td>\n",
       "      <td>None</td>\n",
       "      <td>LINESTRING (450967.978 3951143.494, 450967.908...</td>\n",
       "    </tr>\n",
       "    <tr>\n",
       "      <th>524</th>\n",
       "      <td>99</td>\n",
       "      <td>1</td>\n",
       "      <td>20180430</td>\n",
       "      <td>A1LA184A112891</td>\n",
       "      <td>07</td>\n",
       "      <td>211</td>\n",
       "      <td>1892</td>\n",
       "      <td>None</td>\n",
       "      <td>None</td>\n",
       "      <td>None</td>\n",
       "      <td>None</td>\n",
       "      <td>None</td>\n",
       "      <td>None</td>\n",
       "      <td>None</td>\n",
       "      <td>LINESTRING (450804.017 3951197.382, 450805.876...</td>\n",
       "    </tr>\n",
       "    <tr>\n",
       "      <th>525</th>\n",
       "      <td>99</td>\n",
       "      <td>1</td>\n",
       "      <td>20180430</td>\n",
       "      <td>A1LA184A111035</td>\n",
       "      <td>07</td>\n",
       "      <td>211</td>\n",
       "      <td>36</td>\n",
       "      <td>None</td>\n",
       "      <td>157C5322LR0102</td>\n",
       "      <td>None</td>\n",
       "      <td>None</td>\n",
       "      <td>None</td>\n",
       "      <td>None</td>\n",
       "      <td>None</td>\n",
       "      <td>LINESTRING (451183.838 3951020.711, 451182.930...</td>\n",
       "    </tr>\n",
       "  </tbody>\n",
       "</table>\n",
       "<p>526 rows × 15 columns</p>\n",
       "</div>"
      ],
      "text/plain": [
       "    BARRIER CODE      DATE          HDUFID LANECODE LANETYPE   LNO  \\\n",
       "0        04    2  20180430  A1LA184A118233       99      999  7234   \n",
       "1        99    1  20180430  A1LA184A111498       01      111   499   \n",
       "2        04    2  20180430  A1LA184A111640       99      999   641   \n",
       "3        04    2  20180430  A1LA184A112829       99      999  1830   \n",
       "4        04    2  20180430  A1LA184A111122       99      999   123   \n",
       "..      ...  ...       ...             ...      ...      ...   ...   \n",
       "521      99    1  20180430  A1LA184A112344       01      111  1345   \n",
       "522      04    2  20180430  A1LA184A111703       99      999   704   \n",
       "523      04    2  20180430  A1LA184A112788       99      999  1789   \n",
       "524      99    1  20180430  A1LA184A112891       07      211  1892   \n",
       "525      99    1  20180430  A1LA184A111035       07      211    36   \n",
       "\n",
       "           R_LINKID        L_LINKID lanes  side traffic_sign:forward  curb  \\\n",
       "0              None            None  None  None                 None  None   \n",
       "1    157C5304ZZ0102            None  None  None                 None  None   \n",
       "2              None  157C5281RZ0102  None  None                 None  None   \n",
       "3              None  157C5312ZZ0102  None  None                 None  None   \n",
       "4              None  157C5306RZ0102  None  None                 None  None   \n",
       "..              ...             ...   ...   ...                  ...   ...   \n",
       "521  157C5316ZZ0102            None  None  None                 None  None   \n",
       "522            None  157C5299ZZ0202  None  None                 None  None   \n",
       "523            None  157C5295RR0202  None  None                 None  None   \n",
       "524            None            None  None  None                 None  None   \n",
       "525            None  157C5322LR0102  None  None                 None  None   \n",
       "\n",
       "    REMARK                                           geometry  \n",
       "0     None  LINESTRING (450933.974 3951158.172, 450934.607...  \n",
       "1     None  LINESTRING (450545.975 3951273.672, 450544.758...  \n",
       "2     None  LINESTRING (450788.519 3951682.446, 450788.034...  \n",
       "3     None  LINESTRING (450772.910 3951677.084, 450773.531...  \n",
       "4     None  LINESTRING (450456.724 3951483.496, 450456.702...  \n",
       "..     ...                                                ...  \n",
       "521   None  LINESTRING (451029.680 3951459.272, 451031.274...  \n",
       "522   None  LINESTRING (450907.524 3951184.342, 450907.003...  \n",
       "523   None  LINESTRING (450967.978 3951143.494, 450967.908...  \n",
       "524   None  LINESTRING (450804.017 3951197.382, 450805.876...  \n",
       "525   None  LINESTRING (451183.838 3951020.711, 451182.930...  \n",
       "\n",
       "[526 rows x 15 columns]"
      ]
     },
     "execution_count": 23,
     "metadata": {},
     "output_type": "execute_result"
    }
   ],
   "source": [
    "dgistMap"
   ]
  },
  {
   "cell_type": "code",
   "execution_count": 40,
   "metadata": {},
   "outputs": [
    {
     "data": {
      "text/plain": [
       "0      None\n",
       "1      None\n",
       "2      None\n",
       "3      None\n",
       "4      None\n",
       "       ... \n",
       "521    None\n",
       "522    None\n",
       "523    None\n",
       "524    None\n",
       "525    None\n",
       "Name: traffic_sign:forward, Length: 526, dtype: object"
      ]
     },
     "execution_count": 40,
     "metadata": {},
     "output_type": "execute_result"
    }
   ],
   "source": [
    "dgistMap['traffic_sign:forward']\n",
    "parkdf = dgistMap.loc[ap['subtype'] == ('parking')]"
   ]
  },
  {
   "cell_type": "code",
   "execution_count": 38,
   "metadata": {},
   "outputs": [
    {
     "data": {
      "text/plain": [
       "<matplotlib.axes._subplots.AxesSubplot at 0x7f7d5eacacf8>"
      ]
     },
     "execution_count": 38,
     "metadata": {},
     "output_type": "execute_result"
    },
    {
     "data": {
      "image/png": "[encoded data removed]",
      "text/plain": [
       "<Figure size 720x720 with 1 Axes>"
      ]
     },
     "metadata": {
      "needs_background": "light"
     },
     "output_type": "display_data"
    }
   ],
   "source": [
    "fig = plt.figure(figsize = (10,10))\n",
    "ax = fig.add_subplot(1,1,1)\n",
    "dgistMap.plot(ax = ax)"
   ]
  }
 ],
 "metadata": {
  "kernelspec": {
   "display_name": "Python 3",
   "language": "python",
   "name": "python3"
  },
  "language_info": {
   "codemirror_mode": {
    "name": "ipython",
    "version": 3
   },
   "file_extension": ".py",
   "mimetype": "text/x-python",
   "name": "python",
   "nbconvert_exporter": "python",
   "pygments_lexer": "ipython3",
   "version": "3.6.9"
  }
 },
 "nbformat": 4,
 "nbformat_minor": 4
}
